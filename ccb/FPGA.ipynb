{
 "cells": [
  {
   "cell_type": "code",
   "execution_count": 1,
   "metadata": {},
   "outputs": [],
   "source": [
    "import gpiozero\n",
    "import socket\n",
    "import time"
   ]
  },
  {
   "cell_type": "code",
   "execution_count": 2,
   "metadata": {},
   "outputs": [],
   "source": [
    "dio = gpiozero.DigitalOutputDevice(18)"
   ]
  },
  {
   "cell_type": "code",
   "execution_count": 3,
   "metadata": {},
   "outputs": [],
   "source": [
    "dio.on()\n",
    "time.sleep(10)"
   ]
  },
  {
   "cell_type": "code",
   "execution_count": 4,
   "metadata": {},
   "outputs": [
    {
     "name": "stdout",
     "output_type": "stream",
     "text": [
      "Connected to server\n"
     ]
    }
   ],
   "source": [
    "# Server address and port\n",
    "SERVER_IP = '192.168.10.100'  # Change this to the IP address of your server\n",
    "SERVER_PORT = 7  # Change this to the port your server is listening on\n",
    "\n",
    "# Create a TCP socket\n",
    "cam = socket.socket(socket.AF_INET, socket.SOCK_STREAM)\n",
    "\n",
    "# Connect to the server\n",
    "cam.connect((SERVER_IP, SERVER_PORT))\n",
    "print(\"Connected to server\")"
   ]
  },
  {
   "cell_type": "code",
   "execution_count": 5,
   "metadata": {},
   "outputs": [
    {
     "name": "stdout",
     "output_type": "stream",
     "text": [
      "FPGA Version:\n",
      "ver,00000003,00000000\n"
     ]
    }
   ],
   "source": [
    "print('FPGA Version:')\n",
    "command = b\"rd,ver,00000000,00000000\\r\"+b'\\0'\n",
    "cam.send(command)\n",
    "data = cam.recv(22)\n",
    "print(data.decode())"
   ]
  },
  {
   "cell_type": "code",
   "execution_count": 6,
   "metadata": {},
   "outputs": [
    {
     "name": "stdout",
     "output_type": "stream",
     "text": [
      "Temperature:\n",
      "tmp,00003FFF,00000000\n"
     ]
    }
   ],
   "source": [
    "print('Temperature:')\n",
    "command = b\"rd,tmp,00000000,00000000\\r\"+b'\\0'\n",
    "cam.send(command)\n",
    "data = cam.recv(22)\n",
    "print(data.decode())"
   ]
  },
  {
   "cell_type": "code",
   "execution_count": 7,
   "metadata": {},
   "outputs": [
    {
     "name": "stdout",
     "output_type": "stream",
     "text": [
      "Send imgc command\n",
      "imgc\n"
     ]
    }
   ],
   "source": [
    "print('Send imgc command')\n",
    "command = b\"wr,imgc,00000000,00000000\\r\"+b'\\0'\n",
    "cam.send(command)\n",
    "data = cam.recv(5)\n",
    "print(data.decode())\n",
    "time.sleep(10)"
   ]
  },
  {
   "cell_type": "code",
   "execution_count": 8,
   "metadata": {},
   "outputs": [
    {
     "name": "stdout",
     "output_type": "stream",
     "text": [
      "Send imgc command\n",
      "imgc\n"
     ]
    }
   ],
   "source": [
    "print('Send imgc command')\n",
    "command = b\"wr,imgc,00000000,00000000\\r\"+b'\\0'\n",
    "cam.send(command)\n",
    "data = cam.recv(5)\n",
    "print(data.decode())"
   ]
  },
  {
   "cell_type": "code",
   "execution_count": 9,
   "metadata": {},
   "outputs": [],
   "source": [
    "cam.close()\n",
    "time.sleep(1)\n",
    "dio.off()"
   ]
  },
  {
   "cell_type": "code",
   "execution_count": null,
   "metadata": {},
   "outputs": [],
   "source": []
  }
 ],
 "metadata": {
  "kernelspec": {
   "display_name": "Python 3",
   "language": "python",
   "name": "python3"
  },
  "language_info": {
   "codemirror_mode": {
    "name": "ipython",
    "version": 3
   },
   "file_extension": ".py",
   "mimetype": "text/x-python",
   "name": "python",
   "nbconvert_exporter": "python",
   "pygments_lexer": "ipython3",
   "version": "3.11.2"
  }
 },
 "nbformat": 4,
 "nbformat_minor": 2
}
