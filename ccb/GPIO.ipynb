{
 "cells": [
  {
   "cell_type": "code",
   "execution_count": 1,
   "metadata": {},
   "outputs": [],
   "source": [
    "import time\n",
    "import lgpio"
   ]
  },
  {
   "cell_type": "code",
   "execution_count": null,
   "metadata": {},
   "outputs": [],
   "source": [
    "LED = 23\n",
    "\n",
    "# open the gpio chip and set the LED pin as output\n",
    "h = lgpio.gpiochip_open(0)\n",
    "lgpio.gpio_claim_output(h, LED)\n",
    "\n",
    "try:\n",
    "    while True:\n",
    "        # Turn the GPIO pin on\n",
    "        lgpio.gpio_write(h, LED, 1)\n",
    "        time.sleep(1)\n",
    "\n",
    "        # Turn the GPIO pin off\n",
    "        lgpio.gpio_write(h, LED, 0)\n",
    "        time.sleep(1)\n",
    "except KeyboardInterrupt:\n",
    "    lgpio.gpio_write(h, LED, 0)\n",
    "    lgpio.gpiochip_close(h)"
   ]
  }
 ],
 "metadata": {
  "kernelspec": {
   "display_name": "Python 3",
   "language": "python",
   "name": "python3"
  },
  "language_info": {
   "codemirror_mode": {
    "name": "ipython",
    "version": 3
   },
   "file_extension": ".py",
   "mimetype": "text/x-python",
   "name": "python",
   "nbconvert_exporter": "python",
   "pygments_lexer": "ipython3",
   "version": "3.11.2"
  }
 },
 "nbformat": 4,
 "nbformat_minor": 2
}
