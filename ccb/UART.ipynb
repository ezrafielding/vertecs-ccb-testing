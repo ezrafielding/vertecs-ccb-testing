{
 "cells": [
  {
   "cell_type": "code",
   "execution_count": null,
   "metadata": {},
   "outputs": [],
   "source": [
    "import serial"
   ]
  },
  {
   "cell_type": "code",
   "execution_count": null,
   "metadata": {},
   "outputs": [],
   "source": [
    "# FTDI UART for X-band (with rts enabled)\n",
    "XbandPort = serial.Serial(\"/dev/ttyUSB0\", 12000000, timeout=None, rtscts=True, dsrdtr=False)"
   ]
  },
  {
   "cell_type": "code",
   "execution_count": null,
   "metadata": {},
   "outputs": [],
   "source": [
    "# RPi CM4 UART3?\n",
    "uart3Port = serial.Serial(\"/dev/ttyAMA1\", 115200)"
   ]
  },
  {
   "cell_type": "code",
   "execution_count": null,
   "metadata": {},
   "outputs": [],
   "source": [
    "# RPi CM4 UART5?\n",
    "uart5Port = serial.Serial(\"/dev/ttyAMA2\", 115200)"
   ]
  }
 ],
 "metadata": {
  "language_info": {
   "name": "python"
  }
 },
 "nbformat": 4,
 "nbformat_minor": 2
}
